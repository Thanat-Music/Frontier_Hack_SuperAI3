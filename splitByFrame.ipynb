{
 "cells": [
  {
   "cell_type": "code",
   "execution_count": 1,
   "metadata": {},
   "outputs": [
    {
     "name": "stdout",
     "output_type": "stream",
     "text": [
      " 22:55:50 up 21 days,  6:52,  2 users,  load average: 0.09, 0.65, 0.69\n",
      "USER     TTY      FROM             LOGIN@   IDLE   JCPU   PCPU WHAT\n"
     ]
    }
   ],
   "source": [
    "!w"
   ]
  },
  {
   "cell_type": "code",
   "execution_count": 2,
   "metadata": {},
   "outputs": [],
   "source": [
    "import numpy as np\n",
    "import glob"
   ]
  },
  {
   "cell_type": "code",
   "execution_count": 21,
   "metadata": {},
   "outputs": [],
   "source": [
    "input_path = '/lustrefs/disk/project/lt900038-ai23tn'\n",
    "output_path = '/lustrefs/disk/project/lt900008-ai2307/train/'"
   ]
  },
  {
   "cell_type": "code",
   "execution_count": 22,
   "metadata": {},
   "outputs": [],
   "source": [
    "train = glob.glob(input_path + \"/frb_data/train/*.npy\")"
   ]
  },
  {
   "cell_type": "code",
   "execution_count": null,
   "metadata": {},
   "outputs": [],
   "source": [
    "for i, file in enumerate(train):\n",
    "    t1 = train[i]\n",
    "    file_name = output_path + t1.split(\"/\")[-1]\n",
    "    data = np.load(t1)\n",
    "    data_out = []\n",
    "    for j in range(int(len(data)/256)):\n",
    "        data1 = np.transpose(data[256*j:256*(j+1)])\n",
    "        data_out.append(data1)\n",
    "    try:\n",
    "        arr_out = np.array(data_out)\n",
    "        np.save(file_name, arr_out)\n",
    "        print(i)\n",
    "    except:\n",
    "        print(\"Error\",i,len(data)/256,\"File name:\", t1)\n",
    "    "
   ]
  }
 ],
 "metadata": {
  "kernelspec": {
   "display_name": "Python 3 (ipykernel)",
   "language": "python",
   "name": "python3"
  },
  "language_info": {
   "codemirror_mode": {
    "name": "ipython",
    "version": 3
   },
   "file_extension": ".py",
   "mimetype": "text/x-python",
   "name": "python",
   "nbconvert_exporter": "python",
   "pygments_lexer": "ipython3",
   "version": "3.9.15"
  },
  "orig_nbformat": 4
 },
 "nbformat": 4,
 "nbformat_minor": 2
}
